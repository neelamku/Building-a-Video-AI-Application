{
  "nbformat": 4,
  "nbformat_minor": 0,
  "metadata": {
    "colab": {
      "provenance": [],
      "authorship_tag": "ABX9TyO+5px2e3bPdKAuVnKDCbFv",
      "include_colab_link": true
    },
    "kernelspec": {
      "name": "python3",
      "display_name": "Python 3"
    },
    "language_info": {
      "name": "python"
    }
  },
  "cells": [
    {
      "cell_type": "markdown",
      "metadata": {
        "id": "view-in-github",
        "colab_type": "text"
      },
      "source": [
        "<a href=\"https://colab.research.google.com/github/neelamku/Building-a-Video-AI-Application/blob/main/intro.ipynb\" target=\"_parent\"><img src=\"https://colab.research.google.com/assets/colab-badge.svg\" alt=\"Open In Colab\"/></a>"
      ]
    },
    {
      "cell_type": "code",
      "source": [
        "# DO NOT CHANGE THIS CELL\n",
        "# Activate this cell by selecting it with the mouse or arrow keys then use the keyboard shortcut [Shift+Enter] to execute\n",
        "print('This is just a simple print statement')"
      ],
      "metadata": {
        "colab": {
          "base_uri": "https://localhost:8080/"
        },
        "id": "YRueELyQm1md",
        "outputId": "14040357-8314-4a83-b54c-78905a2942f2"
      },
      "execution_count": null,
      "outputs": [
        {
          "output_type": "stream",
          "name": "stdout",
          "text": [
            "This is just a simple print statement\n"
          ]
        }
      ]
    },
    {
      "cell_type": "code",
      "source": [
        "# DO NOT CHANGE THIS CELL\n",
        "# Activate this cell by selecting it with the mouse or arrow keys then use the keyboard shortcut [Shift+Enter] to execute\n",
        "!echo 'This is another simple print statement'"
      ],
      "metadata": {
        "colab": {
          "base_uri": "https://localhost:8080/"
        },
        "id": "uqXvfP9qnAwa",
        "outputId": "9b7ba524-def0-459f-ac88-99ae256b685f"
      },
      "execution_count": null,
      "outputs": [
        {
          "output_type": "stream",
          "name": "stdout",
          "text": [
            "This is another simple print statement\n"
          ]
        }
      ]
    },
  
  
    {
      "cell_type": "code",
      "source": [
        "%%writefile config\n",
        ";WARNING - This is a machine generated file.  Do not edit manually.\n",
        ";WARNING - To update local config settings, see \"ngc config set -h\"\n",
        "\n",
        "[CURRENT]\n",
        "apikey=\n",
        "format_type=json\n",
        "org=nvidia"
      ],
      "metadata": {
        "colab": {
          "base_uri": "https://localhost:8080/"
        },
        "id": "apuE67FmnNiR",
        "outputId": "908230d0-ce9c-416a-ab3c-ad6e615cf4e8"
      },
      "execution_count": null,
      "outputs": [
        {
          "output_type": "stream",
          "name": "stdout",
          "text": [
            "Overwriting config\n"
          ]
        }
      ]
    },
    {
      "cell_type": "code",
      "source": [
        "# DO NOT CHANGE THIS CELL\n",
        "!mkdir -p ~/.ngc & mv config ~/.ngc/"
      ],
      "metadata": {
        "id": "GlbPDVsyni2A"
      },
      "execution_count": null,
      "outputs": []
    }
  ]
}

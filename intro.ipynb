{
  "nbformat": 4,
  "nbformat_minor": 0,
  "metadata": {
    "colab": {
      "provenance": [],
      "authorship_tag": "ABX9TyO+5px2e3bPdKAuVnKDCbFv",
      "include_colab_link": true
    },
    "kernelspec": {
      "name": "python3",
      "display_name": "Python 3"
    },
    "language_info": {
      "name": "python"
    }
  },
  "cells": [
    {
      "cell_type": "markdown",
      "metadata": {
        "id": "view-in-github",
        "colab_type": "text"
      },
      "source": [
        "<a href=\"https://colab.research.google.com/github/neelamku/Building-a-Video-AI-Application/blob/main/intro.ipynb\" target=\"_parent\"><img src=\"https://colab.research.google.com/assets/colab-badge.svg\" alt=\"Open In Colab\"/></a>"
      ]
    },
    {
      "cell_type": "markdown",
      "source": [
        "Building Real-Time Video AI Applications\n",
        "Welcome to the NVIDIA DLI Building Real-Time Video AI Applications lab. In this lab, you will learn how to build and maintain hardware-accelerated video AI applications using NVIDIA's tools. In order to create a Real-Time Video AI Application, we will use NVIDIA's DeepStream, TAO Toolkit, and TensorRT.\n",
        "\n",
        "Table of Contents\n",
        "This lab is broken out into two parts, each with four separate notebooks. In the first part, our focus is primarily on learning how to build a video AI application. In the second part of the lab, we will learn to fine-tune and optimize a video AI application. This hands-on lab will provide opportunities to get familiar with each step in the development workflow that will enable you to make modifications that is most appropriate for your own use case.\n",
        "\n",
        "Part 1:\n",
        "\n",
        "Introduction to Real-Time Video AI Applications\n",
        "Introduction to the DeepStream SDK\n",
        "Building a DeepStream Application\n",
        "Building a Multi-DNN DeepStream Application\n",
        "Part 2:\n",
        "\n",
        "Introduction to the TAO Toolkit\n",
        "Preparing for Model Training\n",
        "Model Training with the TAO Toolkit\n",
        "Optimizing a Video AI Application\n",
        "JupyterLab\n",
        "For this hands-on lab, we use JupyterLab to manage our environment. The JupyterLab Interface is a dashboard that provides access to interactive iPython notebooks, as well as the folder structure of our environment and a terminal window into the Ubuntu operating system. The first view you will see includes a menu bar at the top, a file browser in the left sidebar, and a main work area that is initially open to this \"introduction\" notebook.\n",
        "\n",
        "\n",
        "The file browser can be navigated just like any other file explorer. A double click on any of the items will open a new tab with its content.\n",
        "The main work area includes tabbed views of open files that can be closed, moved, and edited as needed.\n",
        "The notebooks, including this one, consist of a series of content and code cells. To execute code in a code cell, press Shift+Enter or the Run button in the menu bar above, while a cell is highlighted. Sometimes, a content cell will get switched to editing mode. Executing the cell with Shift+Enter or the Run button will switch it back to a readable form.\n",
        "To interrupt cell execution, click the Stop button in the menu bar or navigate to the Kernel menu, and select Interrupt.\n",
        "We can use terminal commands in the notebook cells by prepending an exclamation point/bang(!) to the beginning of the command.\n",
        "\n",
        "Exercise #1 - Practice\n",
        "Try executing the simple print statement in the cell below."
      ],
      "metadata": {
        "id": "NdYvyPnzm2C1"
      }
    },
    {
      "cell_type": "code",
      "source": [
        "# DO NOT CHANGE THIS CELL\n",
        "# Activate this cell by selecting it with the mouse or arrow keys then use the keyboard shortcut [Shift+Enter] to execute\n",
        "print('This is just a simple print statement')"
      ],
      "metadata": {
        "colab": {
          "base_uri": "https://localhost:8080/"
        },
        "id": "YRueELyQm1md",
        "outputId": "14040357-8314-4a83-b54c-78905a2942f2"
      },
      "execution_count": null,
      "outputs": [
        {
          "output_type": "stream",
          "name": "stdout",
          "text": [
            "This is just a simple print statement\n"
          ]
        }
      ]
    },
    {
      "cell_type": "code",
      "source": [
        "# DO NOT CHANGE THIS CELL\n",
        "# Activate this cell by selecting it with the mouse or arrow keys then use the keyboard shortcut [Shift+Enter] to execute\n",
        "!echo 'This is another simple print statement'"
      ],
      "metadata": {
        "colab": {
          "base_uri": "https://localhost:8080/"
        },
        "id": "uqXvfP9qnAwa",
        "outputId": "9b7ba524-def0-459f-ac88-99ae256b685f"
      },
      "execution_count": null,
      "outputs": [
        {
          "output_type": "stream",
          "name": "stdout",
          "text": [
            "This is another simple print statement\n"
          ]
        }
      ]
    },
    {
      "cell_type": "markdown",
      "source": [
        "This is another simple print statement\n",
        "NVIDIA GPU Cloud\n",
        "This lab requires that the user have an NVIDIA GPU Cloud (NGC) account and API key. If you have not done so already, please:\n",
        "\n",
        "Register and activate a free NGC account: https://docs.nvidia.com/ngc/latest/ngc-user-guide.html#registering-activating-ngc-account\n",
        "Generate your NGC API key and save it in a safe location: https://docs.nvidia.com/ngc/latest/ngc-user-guide.html#generating-api-key\n",
        "\n",
        "Exercise #2 - NGC CLI Configuration\n",
        "Instructions:\n",
        "\n",
        "Edit the following cell by replacing <MY_NGC_API_KEY> with your key and execute to the cell to create a configuration file for NGC.\n",
        "Execute the cell below to move the newly created config file to .ngc to configure the NGC CLI."
      ],
      "metadata": {
        "id": "OkYUnOF5nD4g"
      }
    },
    {
      "cell_type": "markdown",
      "source": [
        "API key: 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"
      ],
      "metadata": {
        "id": "E3jJACIZnbEY"
      }
    },
    {
      "cell_type": "code",
      "source": [
        "%%writefile config\n",
        ";WARNING - This is a machine generated file.  Do not edit manually.\n",
        ";WARNING - To update local config settings, see \"ngc config set -h\"\n",
        "\n",
        "[CURRENT]\n",
        "apikey=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\n",
        "format_type=json\n",
        "org=nvidia"
      ],
      "metadata": {
        "colab": {
          "base_uri": "https://localhost:8080/"
        },
        "id": "apuE67FmnNiR",
        "outputId": "908230d0-ce9c-416a-ab3c-ad6e615cf4e8"
      },
      "execution_count": null,
      "outputs": [
        {
          "output_type": "stream",
          "name": "stdout",
          "text": [
            "Overwriting config\n"
          ]
        }
      ]
    },
    {
      "cell_type": "code",
      "source": [
        "# DO NOT CHANGE THIS CELL\n",
        "!mkdir -p ~/.ngc & mv config ~/.ngc/"
      ],
      "metadata": {
        "id": "GlbPDVsyni2A"
      },
      "execution_count": null,
      "outputs": []
    }
  ]
}